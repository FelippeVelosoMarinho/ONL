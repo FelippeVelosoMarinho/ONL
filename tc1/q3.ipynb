{
 "cells": [
  {
   "cell_type": "code",
   "execution_count": 2,
   "id": "1dcbb704",
   "metadata": {},
   "outputs": [],
   "source": [
    "import numpy as np\n",
    "\n",
    "# Função de custo negativa (para maximização do lucro)\n",
    "def funcaoobjetivo(x):\n",
    "    d, t, m = x  # Desconto (%), tempo (dias), orçamento (R$)\n",
    "    VB = 100000  # Vendas básicas\n",
    "    CB = 10000   # Custo fixo inicial\n",
    "\n",
    "    # Receita\n",
    "    f1 = -0.005 * d**2 + 0.2 * d\n",
    "    f2 = 0.05 * t\n",
    "    receita = VB * (1 + f1 + f2) * np.log(1 + m)\n",
    "\n",
    "    # Custo\n",
    "    custo_marketing = m\n",
    "    penalidades = 0\n",
    "\n",
    "    # Penalizações específicas do problema\n",
    "    if d > 30:\n",
    "        penalidades += 5000\n",
    "    if t > 15:\n",
    "        penalidades += 2000\n",
    "\n",
    "    # Restrições explícitas transformadas em penalizações grandes\n",
    "    if not (0 <= d <= 50):\n",
    "        penalidades += 1e6\n",
    "    if not (1 <= t <= 30):\n",
    "        penalidades += 1e6\n",
    "    if not (1000 <= m <= 50000):\n",
    "        penalidades += 1e6\n",
    "\n",
    "    custo_total = CB + custo_marketing + penalidades\n",
    "\n",
    "    # Lucro\n",
    "    lucro = receita - custo_total\n",
    "\n",
    "    # Negar o lucro para usar minimização\n",
    "    return -lucro\n"
   ]
  },
  {
   "cell_type": "code",
   "execution_count": null,
   "id": "c7a450a6",
   "metadata": {},
   "outputs": [
    {
     "name": "stdout",
     "output_type": "stream",
     "text": [
      "Parâmetros ótimos: Desconto = 20.00%, Tempo = 30.00 dias, Orçamento = R$49949.02\n",
      "Lucro máximo estimado: R$4806501.13\n"
     ]
    }
   ],
   "source": [
    "from scipy.optimize import minimize\n",
    "\n",
    "# Chute inicial\n",
    "ponto_inicial = [10, 10, 10000]\n",
    "\n",
    "# Rodando a otimização com método sem derivadas\n",
    "res = minimize(funcaoobjetivo, ponto_inicial, method='Nelder-Mead')\n",
    "\n",
    "# Resultados\n",
    "d, t, m = res.x\n",
    "lucro = -res.fun  # Reverter o sinal, pois minimizamos o negativo\n",
    "\n",
    "print(f\"Parâmetros ótimos: Desconto = {d:.2f}%, Tempo = {t:.2f} dias, Orçamento = R${m:.2f}\")\n",
    "print(f\"Lucro máximo estimado: R${lucro:.2f}\")"
   ]
  }
 ],
 "metadata": {
  "kernelspec": {
   "display_name": "Python 3",
   "language": "python",
   "name": "python3"
  },
  "language_info": {
   "codemirror_mode": {
    "name": "ipython",
    "version": 3
   },
   "file_extension": ".py",
   "mimetype": "text/x-python",
   "name": "python",
   "nbconvert_exporter": "python",
   "pygments_lexer": "ipython3",
   "version": "3.11.9"
  }
 },
 "nbformat": 4,
 "nbformat_minor": 5
}
