{
 "cells": [
  {
   "cell_type": "markdown",
   "id": "910b9bbd",
   "metadata": {},
   "source": [
    "### Estrutura básica de Problemas de Otimização Irrestrita\n",
    "\n",
    "A estrutura básica de um algoritmo irá diferi de outro essencialmente pela maneira como é calculada a direção de busca dk.\n",
    "\n",
    "Métodos:\n",
    "- Gradiente -> \n",
    "- Newton -> Funções Quadráticas\n",
    "- Quase-Newton -> diferenciável\n",
    "- Gradiente conjulgado -> diferenciável com muitas variáveis\n",
    "- não diferenciável contínua -> nelder meader simplex (metodo sem derivada)\n",
    "- não diferenciável e não contínua -> hooke jeaves"
   ]
  },
  {
   "cell_type": "markdown",
   "id": "dc9d3fa6",
   "metadata": {},
   "source": [
    "#### Método do Gradiente:\n",
    "\n",
    "A estimativa da escolha de uma direção de busca é dada por: dk = -gradientede f(xk).\n",
    "\n",
    "Localmente a função decresce mais rapidamente.\n",
    "\n",
    "A função f(x) deve ser diferenciável.\n",
    "\n",
    "O algoritmo é baseado em 3 questões:\n",
    "- Calculo numérico do gradiente;\n",
    "- Critérios de parada e/ou convergência;\n",
    "- Otimização unidimensional;\n",
    "\n",
    "O objetivo do método é minimizar uma função f(x) movendo-se na direção oposta ao gradiente (a direção de maior crescimento da função);\n",
    "\n",
    "1 - Escolhendo um ponto inicial x0,\n",
    "2 - Calculo o gradiente de f(xk)\n",
    "\n",
    "\n",
    "verificar quais métodos utilizar em cenários de funções diferenciáveis ou não\n",
    "em quais casos o armazenamento das matrizes pode ser prejucial"
   ]
  },
  {
   "cell_type": "markdown",
   "id": "4098a4f3",
   "metadata": {},
   "source": []
  }
 ],
 "metadata": {
  "language_info": {
   "name": "python"
  }
 },
 "nbformat": 4,
 "nbformat_minor": 5
}
